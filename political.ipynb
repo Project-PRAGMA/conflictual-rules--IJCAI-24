{
 "cells": [
  {
   "cell_type": "code",
   "execution_count": 1,
   "metadata": {},
   "outputs": [],
   "source": [
    "import cvrpy\n",
    "import pandas as pd\n",
    "import numpy as np\n",
    "from tqdm import tqdm\n",
    "import matplotlib.pyplot as plt \n",
    "import tikzplotlib"
   ]
  },
  {
   "cell_type": "markdown",
   "metadata": {},
   "source": [
    "In this notebook, we run the conflicting rules on political datasets from the french presidential election, and the sushi dataset."
   ]
  },
  {
   "cell_type": "markdown",
   "metadata": {},
   "source": [
    "# 1. Load data"
   ]
  },
  {
   "cell_type": "code",
   "execution_count": 2,
   "metadata": {},
   "outputs": [
    {
     "name": "stdout",
     "output_type": "stream",
     "text": [
      "5755\n"
     ]
    }
   ],
   "source": [
    "rankings = np.loadtxt(\"datasets/french_presidential_2017_rankings.csv\", delimiter=\",\")\n",
    "weights = np.loadtxt(\"datasets/french_presidential_2017_weights.csv\", delimiter=\",\")\n",
    "candidats = np.loadtxt(\"datasets/french_presidential_2017_candidates.csv\", delimiter=\",\", dtype=str)\n",
    "\n",
    "print(len(rankings))\n",
    "\n",
    "data_2017 = {\"votes\": rankings, \"weights\": weights, \"candidats\": candidats}"
   ]
  },
  {
   "cell_type": "code",
   "execution_count": 3,
   "metadata": {},
   "outputs": [
    {
     "name": "stdout",
     "output_type": "stream",
     "text": [
      "412\n"
     ]
    }
   ],
   "source": [
    "rankings = np.loadtxt(\"datasets/french_presidential_2022_rankings.csv\", delimiter=\",\")\n",
    "weights = np.loadtxt(\"datasets/french_presidential_2022_weights.csv\", delimiter=\",\")\n",
    "candidats = np.loadtxt(\"datasets/french_presidential_2022_candidates.csv\", delimiter=\",\", dtype=str)\n",
    "\n",
    "print(len(rankings))\n",
    "\n",
    "data_2022 = {\"votes\": rankings, \"weights\": weights, \"candidats\": candidats}"
   ]
  },
  {
   "cell_type": "markdown",
   "metadata": {},
   "source": [
    "# 2. Run experiments"
   ]
  },
  {
   "cell_type": "code",
   "execution_count": 4,
   "metadata": {},
   "outputs": [],
   "source": [
    "rules = [cvrpy.MaxSwap(),\n",
    "         cvrpy.MaxSumConflict(),\n",
    "         cvrpy.MaxNashConflict(),\n",
    "         cvrpy.MaxPolar(2),\n",
    "         cvrpy.Borda(),\n",
    "         cvrpy.ChamberlainCourant()]\n",
    "\n",
    "rule_names = [\"MaxSwapConflict\",\n",
    "                \"MaxSumConflict\",\n",
    "                \"MaxNashConflict\",\n",
    "                \"2-MaxPolar\",\n",
    "                \"Borda\",\n",
    "                \"ChamberlainCourant\"]\n",
    "\n",
    "def results(data):\n",
    "    candidats = data[\"candidats\"]\n",
    "    for i in range(len(rules)):\n",
    "        rule = rules[i]\n",
    "        if \"weights\" in data:\n",
    "            rule(data[\"votes\"], data[\"weights\"])\n",
    "        else:\n",
    "            rule(data[\"votes\"])\n",
    "        print(\"Most polarizing candidates for \", rule_names[i], \" : \", candidats[rule.selected_pair()[0]], \" and \", candidats[rule.selected_pair()[1]])\n"
   ]
  },
  {
   "cell_type": "code",
   "execution_count": 5,
   "metadata": {},
   "outputs": [
    {
     "name": "stdout",
     "output_type": "stream",
     "text": [
      "Most polarizing candidates for  MaxSwapConflict  :  Marine Le Pen  and  Philippe Poutou\n",
      "Most polarizing candidates for  MaxSumConflict  :  BenoÃ®t Hamon  and  Marine Le Pen\n",
      "Most polarizing candidates for  MaxNashConflict  :  BenoÃ®t Hamon  and  Marine Le Pen\n",
      "Most polarizing candidates for  2-MaxPolar  :  Marine Le Pen  and  Philippe Poutou\n",
      "Most polarizing candidates for  Borda  :  Emmanuel Macron  and  Jean-Luc MÃ©lenchon\n",
      "Most polarizing candidates for  ChamberlainCourant  :  FranÃ§ois Fillon  and  Jean-Luc MÃ©lenchon\n"
     ]
    }
   ],
   "source": [
    "results(data_2017)"
   ]
  },
  {
   "cell_type": "code",
   "execution_count": 6,
   "metadata": {},
   "outputs": [
    {
     "name": "stdout",
     "output_type": "stream",
     "text": [
      "Most polarizing candidates for  MaxSwapConflict  :  Eric Zemmour  and  Philippe Poutou\n",
      "Most polarizing candidates for  MaxSumConflict  :  Marine Le Pen  and  Philippe Poutou\n",
      "Most polarizing candidates for  MaxNashConflict  :  Marine Le Pen  and  Jean-Luc MÃ©lenchon\n",
      "Most polarizing candidates for  2-MaxPolar  :  Marine Le Pen  and  Philippe Poutou\n",
      "Most polarizing candidates for  Borda  :  Yannick Jadot  and  Jean-Luc MÃ©lenchon\n",
      "Most polarizing candidates for  ChamberlainCourant  :  Yannick Jadot  and  Marine Le Pen\n"
     ]
    }
   ],
   "source": [
    "results(data_2022)"
   ]
  }
 ],
 "metadata": {
  "kernelspec": {
   "display_name": "Python 3",
   "language": "python",
   "name": "python3"
  },
  "language_info": {
   "codemirror_mode": {
    "name": "ipython",
    "version": 3
   },
   "file_extension": ".py",
   "mimetype": "text/x-python",
   "name": "python",
   "nbconvert_exporter": "python",
   "pygments_lexer": "ipython3",
   "version": "3.11.1"
  }
 },
 "nbformat": 4,
 "nbformat_minor": 2
}
